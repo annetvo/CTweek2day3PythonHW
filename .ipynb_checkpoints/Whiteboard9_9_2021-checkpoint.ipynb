{
 "cells": [
  {
   "cell_type": "code",
   "execution_count": 52,
   "id": "44b3f1db",
   "metadata": {},
   "outputs": [
    {
     "data": {
      "text/plain": [
       "True"
      ]
     },
     "execution_count": 52,
     "metadata": {},
     "output_type": "execute_result"
    }
   ],
   "source": [
    "# Find Middle Number\n",
    "# Given a number (n) and an array of numbers (num_list) as input to a function, return True if the number is greater than the middle number of the array. Return False if the number is less than the middle number of the array.\n",
    "# Example Input: n = 6, array = [3,5,8,10]\n",
    "# Example Output: True\n",
    "# Example Input: n = 105, array = [10,30,44,22,100]\n",
    "# Example Output: True\n",
    "\n",
    "def mid_num(n,num_list):\n",
    "    x = int(len(num_list))//2 #floor division, rounds down\n",
    "    if num_list[x] < n:\n",
    "        return True\n",
    "    else:\n",
    "        return False \n",
    "\n",
    "# def mid_num(n,num_list):\n",
    "#     if n > len(num_list) // 2:\n",
    "#         return True\n",
    "#     return False\n",
    "\n",
    "\n",
    "    \n",
    "    \n",
    "# n = 6 \n",
    "# array = [3,5,8,10]    \n",
    "\n",
    "n = 105 \n",
    "array = [10,30,44,22,100]\n",
    "\n",
    "mid_num(n,array)\n",
    "    \n",
    "    "
   ]
  },
  {
   "cell_type": "code",
   "execution_count": null,
   "id": "4875387e",
   "metadata": {},
   "outputs": [],
   "source": []
  }
 ],
 "metadata": {
  "kernelspec": {
   "display_name": "Python 3",
   "language": "python",
   "name": "python3"
  },
  "language_info": {
   "codemirror_mode": {
    "name": "ipython",
    "version": 3
   },
   "file_extension": ".py",
   "mimetype": "text/x-python",
   "name": "python",
   "nbconvert_exporter": "python",
   "pygments_lexer": "ipython3",
   "version": "3.8.8"
  }
 },
 "nbformat": 4,
 "nbformat_minor": 5
}
