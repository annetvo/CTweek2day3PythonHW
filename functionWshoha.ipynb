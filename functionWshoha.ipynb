{
 "cells": [
  {
   "cell_type": "code",
   "execution_count": null,
   "id": "e2306821",
   "metadata": {},
   "outputs": [],
   "source": [
    "def hiShoha(num1,num2):\n",
    "    return"
   ]
  },
  {
   "cell_type": "code",
   "execution_count": 22,
   "id": "b55e8325",
   "metadata": {},
   "outputs": [
    {
     "data": {
      "text/plain": [
       "(2, 'SAM')"
      ]
     },
     "execution_count": 22,
     "metadata": {},
     "output_type": "execute_result"
    }
   ],
   "source": [
    "def hiSam(num1,str1):\n",
    "    return num1+1, str1.upper()\n",
    "\n",
    "\n",
    "hiSam(1, 'sam')\n"
   ]
  },
  {
   "cell_type": "code",
   "execution_count": 26,
   "id": "a69263df",
   "metadata": {},
   "outputs": [
    {
     "data": {
      "text/plain": [
       "[1, 2, 3, 4]"
      ]
     },
     "execution_count": 26,
     "metadata": {},
     "output_type": "execute_result"
    }
   ],
   "source": [
    "def pushToEnd(list1,num1):\n",
    "    list1.append(num1)\n",
    "    return list1\n",
    "\n",
    "pushToEnd([1,2,3],4)"
   ]
  },
  {
   "cell_type": "code",
   "execution_count": 29,
   "id": "59920e49",
   "metadata": {},
   "outputs": [
    {
     "data": {
      "text/plain": [
       "'apple banana plum'"
      ]
     },
     "execution_count": 29,
     "metadata": {},
     "output_type": "execute_result"
    }
   ],
   "source": [
    "def stringConcat(str1,str2,str3):\n",
    "    newstr = str1 + \" \" + str2 + \" \"+ str3\n",
    "    return newstr\n",
    "\n",
    "stringConcat('apple','banana','plum')"
   ]
  },
  {
   "cell_type": "code",
   "execution_count": 38,
   "id": "0de0a7a2",
   "metadata": {},
   "outputs": [
    {
     "data": {
      "text/plain": [
       "False"
      ]
     },
     "execution_count": 38,
     "metadata": {},
     "output_type": "execute_result"
    }
   ],
   "source": [
    "def inHere(list1,num1):\n",
    "    for i in list1:\n",
    "        if i == num1:\n",
    "            return True\n",
    "        else:\n",
    "            return False\n",
    "    \n",
    "inHere([1,2,3,4],25)"
   ]
  },
  {
   "cell_type": "code",
   "execution_count": null,
   "id": "3ce1d607",
   "metadata": {},
   "outputs": [],
   "source": []
  }
 ],
 "metadata": {
  "kernelspec": {
   "display_name": "Python 3",
   "language": "python",
   "name": "python3"
  },
  "language_info": {
   "codemirror_mode": {
    "name": "ipython",
    "version": 3
   },
   "file_extension": ".py",
   "mimetype": "text/x-python",
   "name": "python",
   "nbconvert_exporter": "python",
   "pygments_lexer": "ipython3",
   "version": "3.8.8"
  }
 },
 "nbformat": 4,
 "nbformat_minor": 5
}
