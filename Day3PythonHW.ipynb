{
 "cells": [
  {
   "cell_type": "markdown",
   "id": "5048fed0",
   "metadata": {},
   "source": [
    "### 1) Build a Shopping Cart <br>\n",
    "<p><b>You can use either lists or dictionaries. The program should have the following capabilities:</b><br><br>\n",
    "1) Takes in input <br>\n",
    "2) Stores user input into a dictionary or list <br>\n",
    "3) The User can add or delete items <br>\n",
    "4) The User can see current shopping list <br>\n",
    "5) The program Loops until user 'quits' <br>\n",
    "6) Upon quiting the program, print out all items in the user's list <br>\n",
    "</p>"
   ]
  },
  {
   "cell_type": "code",
   "execution_count": 56,
   "id": "c634010d",
   "metadata": {},
   "outputs": [
    {
     "name": "stdout",
     "output_type": "stream",
     "text": [
      "Enter item into shopping cart or say 'quit/show/delete':bananas\n",
      "Enter item into shopping cart or say 'quit/show/delete':strawberries\n",
      "Enter item into shopping cart or say 'quit/show/delete':apples\n",
      "Enter item into shopping cart or say 'quit/show/delete':pineapples\n",
      "Enter item into shopping cart or say 'quit/show/delete':delete\n",
      "Enter item you would like to delete or say 'quit':apples\n",
      "Enter item into shopping cart or say 'quit/show/delete':show\n",
      "Current shopping cart items: bananas\n",
      "Current shopping cart items: strawberries\n",
      "Current shopping cart items: pineapples\n",
      "Enter item into shopping cart or say 'quit/show/delete':chairs\n",
      "Enter item into shopping cart or say 'quit/show/delete':napkins\n",
      "Enter item into shopping cart or say 'quit/show/delete':show\n",
      "Current shopping cart items: bananas\n",
      "Current shopping cart items: strawberries\n",
      "Current shopping cart items: pineapples\n",
      "Current shopping cart items: chairs\n",
      "Current shopping cart items: napkins\n",
      "Enter item into shopping cart or say 'quit/show/delete':delete\n",
      "Enter item you would like to delete or say 'quit':chairs\n",
      "Enter item into shopping cart or say 'quit/show/delete':print\n",
      "Enter item into shopping cart or say 'quit/show/delete':delete\n",
      "Enter item you would like to delete or say 'quit':print\n",
      "Enter item into shopping cart or say 'quit/show/delete':quit\n",
      "Current Shopping cart items: bananas\n",
      "Current Shopping cart items: strawberries\n",
      "Current Shopping cart items: pineapples\n",
      "Current Shopping cart items: napkins\n"
     ]
    }
   ],
   "source": [
    "from IPython.display import clear_output\n",
    "\n",
    "def shopping_cart():\n",
    "    d = {}\n",
    "    \n",
    "    while True:\n",
    "        item = input(\"Enter item into shopping cart or say 'quit/show/delete':\")\n",
    "        \n",
    "        if item.lower() == 'show':\n",
    "            for key,value in d.items():\n",
    "                print(f'Current shopping cart items: {key}')\n",
    "            if d.items() == 'show':\n",
    "                del d['show']\n",
    "            else:\n",
    "                continue\n",
    "\n",
    "        elif item.lower() == 'delete':\n",
    "            deleted_item = input(\"Enter item you would like to delete or say 'quit':\")\n",
    "            del d[deleted_item]\n",
    "            if d.items() == 'delete':\n",
    "                del d['delete']\n",
    "            else:\n",
    "                continue\n",
    "            \n",
    "        elif item.lower() == 'quit':\n",
    "            for key,value in d.items():\n",
    "                print(f'Current Shopping cart items: {key}')\n",
    "            break\n",
    "            \n",
    "        d[item] = item\n",
    "        \n",
    "shopping_cart()\n",
    "\n",
    "# Ask the user 5 bits of input: Do you want to : Show/Add/Delete/clear or Quit?"
   ]
  },
  {
   "cell_type": "code",
   "execution_count": null,
   "id": "b94cc102",
   "metadata": {},
   "outputs": [],
   "source": []
  }
 ],
 "metadata": {
  "kernelspec": {
   "display_name": "Python 3",
   "language": "python",
   "name": "python3"
  },
  "language_info": {
   "codemirror_mode": {
    "name": "ipython",
    "version": 3
   },
   "file_extension": ".py",
   "mimetype": "text/x-python",
   "name": "python",
   "nbconvert_exporter": "python",
   "pygments_lexer": "ipython3",
   "version": "3.8.8"
  }
 },
 "nbformat": 4,
 "nbformat_minor": 5
}
